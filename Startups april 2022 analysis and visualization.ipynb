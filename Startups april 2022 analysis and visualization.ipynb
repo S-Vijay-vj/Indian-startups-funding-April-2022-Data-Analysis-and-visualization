{
 "cells": [
  {
   "cell_type": "markdown",
   "metadata": {},
   "source": [
    "---\n",
    "# <b> Data cleaning, Analysing and Visualization using </b>\n",
    "    \n",
    "    \n",
    "    - Pandas  \n",
    "    - Matplotlib\n",
    "    - seaborn.\n",
    "\n",
    "<img src = \"https://www.bigscal.com/wp-content/uploads/2022/03/data-analysis-and-visualization.jpg\" width = \"570\" height = \"250\">\n",
    "\n",
    "<br>\n",
    "<br>\n",
    "\n",
    ">>> Startups may be small companies but they can play a significant role in economic growth.Startup funding, or startup capital, is money that an entrepreneur uses to launch a new business. This money can be used for hiring employees, renting space, buying inventory or other operating expenses that help a business get started. \n",
    "\n",
    ">>> Here is the report of Startup funding for April 2022.\n",
    "\n",
    "***\n",
    "---"
   ]
  },
  {
   "cell_type": "markdown",
   "metadata": {},
   "source": [
    "### <b> Importing necessary `libraries` </b>"
   ]
  },
  {
   "cell_type": "code",
   "execution_count": 1,
   "metadata": {},
   "outputs": [],
   "source": [
    "# importing libraries\n",
    "import pandas as pd \n",
    "import numpy as np \n",
    "import matplotlib.pyplot as plt \n",
    "import seaborn as sns"
   ]
  },
  {
   "cell_type": "markdown",
   "metadata": {},
   "source": [
    "---\n",
    "### <b> Import and reading the required Dataset </b>"
   ]
  },
  {
   "cell_type": "code",
   "execution_count": 2,
   "metadata": {},
   "outputs": [],
   "source": [
    "# Reading csv file\n",
    "df=pd.read_csv(\"Indian Startups - Funding  Investors Data April 2022.csv\",encoding='cp1252')"
   ]
  },
  {
   "cell_type": "code",
   "execution_count": 3,
   "metadata": {},
   "outputs": [
    {
     "data": {
      "text/html": [
       "<div>\n",
       "<style scoped>\n",
       "    .dataframe tbody tr th:only-of-type {\n",
       "        vertical-align: middle;\n",
       "    }\n",
       "\n",
       "    .dataframe tbody tr th {\n",
       "        vertical-align: top;\n",
       "    }\n",
       "\n",
       "    .dataframe thead th {\n",
       "        text-align: right;\n",
       "    }\n",
       "</style>\n",
       "<table border=\"1\" class=\"dataframe\">\n",
       "  <thead>\n",
       "    <tr style=\"text-align: right;\">\n",
       "      <th></th>\n",
       "      <th>Company Name</th>\n",
       "      <th>Founded</th>\n",
       "      <th>Location</th>\n",
       "      <th>Sector</th>\n",
       "      <th>What it does</th>\n",
       "      <th>Founders</th>\n",
       "      <th>Investor</th>\n",
       "      <th>Amount</th>\n",
       "      <th>Stage</th>\n",
       "    </tr>\n",
       "  </thead>\n",
       "  <tbody>\n",
       "    <tr>\n",
       "      <th>0</th>\n",
       "      <td>Dyte</td>\n",
       "      <td>2020</td>\n",
       "      <td>Bengaluru</td>\n",
       "      <td>IT Services and IT Consulting</td>\n",
       "      <td>Dyte provides the easiest way to add real-time...</td>\n",
       "      <td>Felix Lee,Vivan</td>\n",
       "      <td>Multiples</td>\n",
       "      <td>$15,300,000</td>\n",
       "      <td>undisclosed</td>\n",
       "    </tr>\n",
       "    <tr>\n",
       "      <th>1</th>\n",
       "      <td>Kirana Bazaar</td>\n",
       "      <td>2018</td>\n",
       "      <td>Gurgaon</td>\n",
       "      <td>Oline grocery</td>\n",
       "      <td>Kirana Bazaar is a neighborhood store network ...</td>\n",
       "      <td>Abhishek Halder, Anilesh Yadav</td>\n",
       "      <td>Multiples</td>\n",
       "      <td>$32,800,000</td>\n",
       "      <td>undisclosed</td>\n",
       "    </tr>\n",
       "    <tr>\n",
       "      <th>2</th>\n",
       "      <td>Phool</td>\n",
       "      <td>2017</td>\n",
       "      <td>kanpur</td>\n",
       "      <td>Enviromental Engineering</td>\n",
       "      <td>Phool is a biomaterial startup.</td>\n",
       "      <td>Ankit Agrawal</td>\n",
       "      <td>Multiples</td>\n",
       "      <td>$9,400,000</td>\n",
       "      <td>undisclosed</td>\n",
       "    </tr>\n",
       "    <tr>\n",
       "      <th>3</th>\n",
       "      <td>Doceree</td>\n",
       "      <td>2019</td>\n",
       "      <td>Parsippany</td>\n",
       "      <td>Information Technology &amp; Services</td>\n",
       "      <td>Doceree is a fully integrated programmatic ad ...</td>\n",
       "      <td>Daleep Manhas, Harshit Jain, Stephen Hoelper</td>\n",
       "      <td>Multiples</td>\n",
       "      <td>12,000,000</td>\n",
       "      <td>undisclosed</td>\n",
       "    </tr>\n",
       "    <tr>\n",
       "      <th>4</th>\n",
       "      <td>Acko</td>\n",
       "      <td>2016</td>\n",
       "      <td>Mumbai</td>\n",
       "      <td>Health insurance</td>\n",
       "      <td>Acko is a digital insurance company with a lic...</td>\n",
       "      <td>NaN</td>\n",
       "      <td>Multiples</td>\n",
       "      <td>$458,000,000</td>\n",
       "      <td>Series D</td>\n",
       "    </tr>\n",
       "    <tr>\n",
       "      <th>5</th>\n",
       "      <td>FirstCry</td>\n",
       "      <td>2010</td>\n",
       "      <td>Pune</td>\n",
       "      <td>Online shopping</td>\n",
       "      <td>FirstCry is an online shopping store offering ...</td>\n",
       "      <td>Amitava Saha, Prashant Jadhav, Sanket Hattimat...</td>\n",
       "      <td>Multiples</td>\n",
       "      <td>$74,140</td>\n",
       "      <td>undisclosed</td>\n",
       "    </tr>\n",
       "    <tr>\n",
       "      <th>6</th>\n",
       "      <td>Meesho</td>\n",
       "      <td>2015</td>\n",
       "      <td>Bangalore</td>\n",
       "      <td>Online shopping</td>\n",
       "      <td>Meesho operates as an online reselling platfor...</td>\n",
       "      <td>Sanjeev Barnwal, Vidit Aatrey</td>\n",
       "      <td>Multiples</td>\n",
       "      <td>$1,100,000,000</td>\n",
       "      <td>Series F</td>\n",
       "    </tr>\n",
       "    <tr>\n",
       "      <th>7</th>\n",
       "      <td>NoBroker</td>\n",
       "      <td>2013</td>\n",
       "      <td>Bangalore</td>\n",
       "      <td>Housing rent</td>\n",
       "      <td>NoBroker is a real-estate platform that makes ...</td>\n",
       "      <td>Akhil Gupta, Amit Agarwal,</td>\n",
       "      <td>Multiples</td>\n",
       "      <td>$426,000,000</td>\n",
       "      <td>Series E</td>\n",
       "    </tr>\n",
       "    <tr>\n",
       "      <th>8</th>\n",
       "      <td>Paytm</td>\n",
       "      <td>2010</td>\n",
       "      <td>Noida</td>\n",
       "      <td>Financial services</td>\n",
       "      <td>Paytm is a digital payments start-up that offe...</td>\n",
       "      <td>Akshay Khanna, Vijay Shekhar</td>\n",
       "      <td>Multiples</td>\n",
       "      <td>$1,200,000,000</td>\n",
       "      <td>undisclosed</td>\n",
       "    </tr>\n",
       "    <tr>\n",
       "      <th>9</th>\n",
       "      <td>ShareChat</td>\n",
       "      <td>2015</td>\n",
       "      <td>Bangalore</td>\n",
       "      <td>Social networking</td>\n",
       "      <td>ShareChat is a social networking and regional ...</td>\n",
       "      <td>Ankush Sachdeva, Bhanu</td>\n",
       "      <td>Multiples</td>\n",
       "      <td>$1,400,000,000</td>\n",
       "      <td>Series G</td>\n",
       "    </tr>\n",
       "  </tbody>\n",
       "</table>\n",
       "</div>"
      ],
      "text/plain": [
       "    Company Name  Founded    Location                             Sector  \\\n",
       "0           Dyte     2020   Bengaluru      IT Services and IT Consulting   \n",
       "1  Kirana Bazaar     2018     Gurgaon                      Oline grocery   \n",
       "2          Phool     2017      kanpur           Enviromental Engineering   \n",
       "3        Doceree     2019  Parsippany  Information Technology & Services   \n",
       "4           Acko     2016      Mumbai                   Health insurance   \n",
       "5       FirstCry     2010        Pune                    Online shopping   \n",
       "6         Meesho     2015   Bangalore                    Online shopping   \n",
       "7       NoBroker     2013   Bangalore                       Housing rent   \n",
       "8          Paytm     2010       Noida                 Financial services   \n",
       "9      ShareChat     2015   Bangalore                  Social networking   \n",
       "\n",
       "                                        What it does  \\\n",
       "0  Dyte provides the easiest way to add real-time...   \n",
       "1  Kirana Bazaar is a neighborhood store network ...   \n",
       "2                    Phool is a biomaterial startup.   \n",
       "3  Doceree is a fully integrated programmatic ad ...   \n",
       "4  Acko is a digital insurance company with a lic...   \n",
       "5  FirstCry is an online shopping store offering ...   \n",
       "6  Meesho operates as an online reselling platfor...   \n",
       "7  NoBroker is a real-estate platform that makes ...   \n",
       "8  Paytm is a digital payments start-up that offe...   \n",
       "9  ShareChat is a social networking and regional ...   \n",
       "\n",
       "                                            Founders   Investor  \\\n",
       "0                                    Felix Lee,Vivan  Multiples   \n",
       "1                     Abhishek Halder, Anilesh Yadav  Multiples   \n",
       "2                                      Ankit Agrawal  Multiples   \n",
       "3       Daleep Manhas, Harshit Jain, Stephen Hoelper  Multiples   \n",
       "4                                                NaN  Multiples   \n",
       "5  Amitava Saha, Prashant Jadhav, Sanket Hattimat...  Multiples   \n",
       "6                      Sanjeev Barnwal, Vidit Aatrey  Multiples   \n",
       "7                         Akhil Gupta, Amit Agarwal,  Multiples   \n",
       "8                       Akshay Khanna, Vijay Shekhar  Multiples   \n",
       "9                             Ankush Sachdeva, Bhanu  Multiples   \n",
       "\n",
       "           Amount        Stage  \n",
       "0     $15,300,000  undisclosed  \n",
       "1     $32,800,000  undisclosed  \n",
       "2      $9,400,000  undisclosed  \n",
       "3      12,000,000  undisclosed  \n",
       "4    $458,000,000     Series D  \n",
       "5         $74,140  undisclosed  \n",
       "6  $1,100,000,000     Series F  \n",
       "7    $426,000,000     Series E  \n",
       "8  $1,200,000,000  undisclosed  \n",
       "9  $1,400,000,000     Series G  "
      ]
     },
     "execution_count": 3,
     "metadata": {},
     "output_type": "execute_result"
    }
   ],
   "source": [
    "df.head(10)"
   ]
  },
  {
   "cell_type": "code",
   "execution_count": 4,
   "metadata": {},
   "outputs": [
    {
     "data": {
      "text/html": [
       "<div>\n",
       "<style scoped>\n",
       "    .dataframe tbody tr th:only-of-type {\n",
       "        vertical-align: middle;\n",
       "    }\n",
       "\n",
       "    .dataframe tbody tr th {\n",
       "        vertical-align: top;\n",
       "    }\n",
       "\n",
       "    .dataframe thead th {\n",
       "        text-align: right;\n",
       "    }\n",
       "</style>\n",
       "<table border=\"1\" class=\"dataframe\">\n",
       "  <thead>\n",
       "    <tr style=\"text-align: right;\">\n",
       "      <th></th>\n",
       "      <th>Company Name</th>\n",
       "      <th>Founded</th>\n",
       "      <th>Location</th>\n",
       "      <th>Sector</th>\n",
       "      <th>What it does</th>\n",
       "      <th>Founders</th>\n",
       "      <th>Investor</th>\n",
       "      <th>Amount</th>\n",
       "      <th>Stage</th>\n",
       "    </tr>\n",
       "  </thead>\n",
       "  <tbody>\n",
       "    <tr>\n",
       "      <th>85</th>\n",
       "      <td>Eximpe</td>\n",
       "      <td>2021</td>\n",
       "      <td>Eximpe is Managing sellers, buyers, processes,...</td>\n",
       "      <td>Arjun Zacharia</td>\n",
       "      <td>Axel Wehr and Rohit M.A.</td>\n",
       "      <td>$270,000,000</td>\n",
       "      <td>Seed</td>\n",
       "      <td>NaN</td>\n",
       "      <td>NaN</td>\n",
       "    </tr>\n",
       "    <tr>\n",
       "      <th>86</th>\n",
       "      <td>Limechat</td>\n",
       "      <td>2020</td>\n",
       "      <td>Faridabad</td>\n",
       "      <td>Software</td>\n",
       "      <td>Limechat provides a personalised shopping expe...</td>\n",
       "      <td>Aniket Bajpai, Nikhil Gupta</td>\n",
       "      <td>Pi Ventures and Stellaris Venture Partners</td>\n",
       "      <td>$5,000,000</td>\n",
       "      <td>Seed</td>\n",
       "    </tr>\n",
       "    <tr>\n",
       "      <th>87</th>\n",
       "      <td>Medisage</td>\n",
       "      <td>2019</td>\n",
       "      <td>Mumbai</td>\n",
       "      <td>Healthcare</td>\n",
       "      <td>Medisage Connect with Global doctors, watch vi...</td>\n",
       "      <td>NaN</td>\n",
       "      <td>Bessemer Venture Partners and Siddharth Sikchi</td>\n",
       "      <td>$530,000,000</td>\n",
       "      <td>undisclosed</td>\n",
       "    </tr>\n",
       "    <tr>\n",
       "      <th>88</th>\n",
       "      <td>Spyne</td>\n",
       "      <td>2018</td>\n",
       "      <td>Gurgaon</td>\n",
       "      <td>Software</td>\n",
       "      <td>Spyne is a Deep Tech startup helping businesse...</td>\n",
       "      <td>Deepti Prasad, Sanjay Kumar</td>\n",
       "      <td>Pentathlon Ventures and Core91 Fund</td>\n",
       "      <td>$7,000,000</td>\n",
       "      <td>Series A</td>\n",
       "    </tr>\n",
       "    <tr>\n",
       "      <th>89</th>\n",
       "      <td>Stockal</td>\n",
       "      <td>2016</td>\n",
       "      <td>Newyork</td>\n",
       "      <td>Finance</td>\n",
       "      <td>Stockal is the platform for cross-border savin...</td>\n",
       "      <td>Rajan K Natarajan, Sitashwa Srivastava, Vinay ...</td>\n",
       "      <td>Hashed and A'Z Angels</td>\n",
       "      <td>$14,800,000</td>\n",
       "      <td>Series A</td>\n",
       "    </tr>\n",
       "    <tr>\n",
       "      <th>90</th>\n",
       "      <td>YouKraft</td>\n",
       "      <td>2020</td>\n",
       "      <td>Banglore</td>\n",
       "      <td>Publishing</td>\n",
       "      <td>YouKraft is an e-commerce marketplace for all ...</td>\n",
       "      <td>NaN</td>\n",
       "      <td>Goel Family Office</td>\n",
       "      <td>76,000,000</td>\n",
       "      <td>Seed</td>\n",
       "    </tr>\n",
       "    <tr>\n",
       "      <th>91</th>\n",
       "      <td>EPNS</td>\n",
       "      <td>2020</td>\n",
       "      <td>BUIDLing World's First Decentralized Notificat...</td>\n",
       "      <td>Harsh Rajat, Richa Joshi</td>\n",
       "      <td>BR Capital and LD Capital</td>\n",
       "      <td>$66,000,000</td>\n",
       "      <td>Seed</td>\n",
       "      <td>NaN</td>\n",
       "      <td>NaN</td>\n",
       "    </tr>\n",
       "    <tr>\n",
       "      <th>92</th>\n",
       "      <td>Securden</td>\n",
       "      <td>2018</td>\n",
       "      <td>Delaware</td>\n",
       "      <td>Artificial Intelligence</td>\n",
       "      <td>Securden is a Windows Privilege Management Sof...</td>\n",
       "      <td>Balasubramanian Venkatramani, Kumaran Balan</td>\n",
       "      <td>Accel and Tiger Global Management</td>\n",
       "      <td>$11,700,000</td>\n",
       "      <td>Series A</td>\n",
       "    </tr>\n",
       "    <tr>\n",
       "      <th>93</th>\n",
       "      <td>Mesh</td>\n",
       "      <td>2020</td>\n",
       "      <td>San Jose</td>\n",
       "      <td>Enterprise Software</td>\n",
       "      <td>Mesh is a social performance management platfo...</td>\n",
       "      <td>Gaurav Chaubey, Rahul Singh, Saurabh Nangia</td>\n",
       "      <td>Ankit Nagori and Sumon Sadhu</td>\n",
       "      <td>$16,100,000</td>\n",
       "      <td>Series A</td>\n",
       "    </tr>\n",
       "    <tr>\n",
       "      <th>94</th>\n",
       "      <td>Last9</td>\n",
       "      <td>2020</td>\n",
       "      <td>Santa Clara</td>\n",
       "      <td>Software</td>\n",
       "      <td>Last9 is a Site Reliability Engineering platfo...</td>\n",
       "      <td>Nishant Modak, Piyush Verma</td>\n",
       "      <td>Better Capital and Sequoia Capital India</td>\n",
       "      <td>$13,000,000</td>\n",
       "      <td>Series A</td>\n",
       "    </tr>\n",
       "  </tbody>\n",
       "</table>\n",
       "</div>"
      ],
      "text/plain": [
       "   Company Name  Founded                                           Location  \\\n",
       "85       Eximpe     2021  Eximpe is Managing sellers, buyers, processes,...   \n",
       "86     Limechat     2020                                          Faridabad   \n",
       "87     Medisage     2019                                             Mumbai   \n",
       "88        Spyne     2018                                            Gurgaon   \n",
       "89      Stockal     2016                                            Newyork   \n",
       "90     YouKraft     2020                                           Banglore   \n",
       "91         EPNS     2020  BUIDLing World's First Decentralized Notificat...   \n",
       "92     Securden     2018                                           Delaware   \n",
       "93         Mesh     2020                                           San Jose   \n",
       "94        Last9     2020                                        Santa Clara   \n",
       "\n",
       "                      Sector  \\\n",
       "85            Arjun Zacharia   \n",
       "86                  Software   \n",
       "87                Healthcare   \n",
       "88                  Software   \n",
       "89                   Finance   \n",
       "90                Publishing   \n",
       "91  Harsh Rajat, Richa Joshi   \n",
       "92   Artificial Intelligence   \n",
       "93       Enterprise Software   \n",
       "94                  Software   \n",
       "\n",
       "                                         What it does  \\\n",
       "85                           Axel Wehr and Rohit M.A.   \n",
       "86  Limechat provides a personalised shopping expe...   \n",
       "87  Medisage Connect with Global doctors, watch vi...   \n",
       "88  Spyne is a Deep Tech startup helping businesse...   \n",
       "89  Stockal is the platform for cross-border savin...   \n",
       "90  YouKraft is an e-commerce marketplace for all ...   \n",
       "91                          BR Capital and LD Capital   \n",
       "92  Securden is a Windows Privilege Management Sof...   \n",
       "93  Mesh is a social performance management platfo...   \n",
       "94  Last9 is a Site Reliability Engineering platfo...   \n",
       "\n",
       "                                             Founders  \\\n",
       "85                                       $270,000,000   \n",
       "86                        Aniket Bajpai, Nikhil Gupta   \n",
       "87                                                NaN   \n",
       "88                        Deepti Prasad, Sanjay Kumar   \n",
       "89  Rajan K Natarajan, Sitashwa Srivastava, Vinay ...   \n",
       "90                                                NaN   \n",
       "91                                        $66,000,000   \n",
       "92        Balasubramanian Venkatramani, Kumaran Balan   \n",
       "93        Gaurav Chaubey, Rahul Singh, Saurabh Nangia   \n",
       "94                        Nishant Modak, Piyush Verma   \n",
       "\n",
       "                                          Investor        Amount        Stage  \n",
       "85                                            Seed           NaN          NaN  \n",
       "86      Pi Ventures and Stellaris Venture Partners    $5,000,000         Seed  \n",
       "87  Bessemer Venture Partners and Siddharth Sikchi  $530,000,000  undisclosed  \n",
       "88             Pentathlon Ventures and Core91 Fund    $7,000,000     Series A  \n",
       "89                           Hashed and A'Z Angels   $14,800,000     Series A  \n",
       "90                              Goel Family Office    76,000,000         Seed  \n",
       "91                                            Seed           NaN          NaN  \n",
       "92               Accel and Tiger Global Management   $11,700,000     Series A  \n",
       "93                    Ankit Nagori and Sumon Sadhu   $16,100,000     Series A  \n",
       "94        Better Capital and Sequoia Capital India   $13,000,000     Series A  "
      ]
     },
     "execution_count": 4,
     "metadata": {},
     "output_type": "execute_result"
    }
   ],
   "source": [
    "df.tail(10)"
   ]
  },
  {
   "cell_type": "markdown",
   "metadata": {},
   "source": [
    "This shows the first and last `10 rows` of the dataset. From these we can easily understand the nature of the dataset.\n",
    "\n",
    "---"
   ]
  },
  {
   "cell_type": "markdown",
   "metadata": {},
   "source": [
    "### <b> Getting more info about the dataset. </b>\n",
    "\n",
    "- Getting shape of the dataset "
   ]
  },
  {
   "cell_type": "code",
   "execution_count": 5,
   "metadata": {},
   "outputs": [
    {
     "data": {
      "text/plain": [
       "(95, 9)"
      ]
     },
     "execution_count": 5,
     "metadata": {},
     "output_type": "execute_result"
    }
   ],
   "source": [
    "df.shape"
   ]
  },
  {
   "cell_type": "markdown",
   "metadata": {},
   "source": [
    ">>>> so this dataset consist of 95 rows and 9 columns. "
   ]
  },
  {
   "cell_type": "markdown",
   "metadata": {},
   "source": [
    "- Checking the Datatype of each variable in Dataset."
   ]
  },
  {
   "cell_type": "code",
   "execution_count": 6,
   "metadata": {},
   "outputs": [
    {
     "name": "stdout",
     "output_type": "stream",
     "text": [
      "<class 'pandas.core.frame.DataFrame'>\n",
      "RangeIndex: 95 entries, 0 to 94\n",
      "Data columns (total 9 columns):\n",
      " #   Column        Non-Null Count  Dtype \n",
      "---  ------        --------------  ----- \n",
      " 0   Company Name  95 non-null     object\n",
      " 1   Founded       95 non-null     int64 \n",
      " 2   Location      94 non-null     object\n",
      " 3   Sector        95 non-null     object\n",
      " 4   What it does  95 non-null     object\n",
      " 5   Founders      85 non-null     object\n",
      " 6   Investor      85 non-null     object\n",
      " 7   Amount        93 non-null     object\n",
      " 8   Stage         92 non-null     object\n",
      "dtypes: int64(1), object(8)\n",
      "memory usage: 6.8+ KB\n"
     ]
    }
   ],
   "source": [
    "df.info()"
   ]
  },
  {
   "cell_type": "markdown",
   "metadata": {},
   "source": [
    ">>>> Here most of the variables are in \"Object\" type."
   ]
  },
  {
   "cell_type": "markdown",
   "metadata": {},
   "source": [
    "- Getting percentage of empty cells."
   ]
  },
  {
   "cell_type": "code",
   "execution_count": 7,
   "metadata": {},
   "outputs": [
    {
     "data": {
      "text/plain": [
       "3.0409356725146197"
      ]
     },
     "execution_count": 7,
     "metadata": {},
     "output_type": "execute_result"
    }
   ],
   "source": [
    "total_cells = np.product(df.shape)\n",
    "empty_cells = df.isnull().sum().sum()\n",
    "percent_empty = (empty_cells/total_cells)*100\n",
    "percent_empty"
   ]
  },
  {
   "cell_type": "markdown",
   "metadata": {},
   "source": [
    ">>>> Nearly `3%` of the data is filled with empty cells. \n"
   ]
  },
  {
   "cell_type": "markdown",
   "metadata": {},
   "source": [
    "---\n",
    "# <b> Data Cleaning </b>\n",
    "- Checking for duplicates"
   ]
  },
  {
   "cell_type": "code",
   "execution_count": 8,
   "metadata": {},
   "outputs": [
    {
     "data": {
      "text/plain": [
       "0"
      ]
     },
     "execution_count": 8,
     "metadata": {},
     "output_type": "execute_result"
    }
   ],
   "source": [
    "df.duplicated().sum()\n",
    "# the dataset doesn't contain any duplicated cells"
   ]
  },
  {
   "cell_type": "markdown",
   "metadata": {},
   "source": [
    " >>>> The dataset doesn't contain any duplicated cells. So there is no need to drop duplicates.\n",
    " \n",
    " ---"
   ]
  },
  {
   "cell_type": "markdown",
   "metadata": {},
   "source": [
    "- Handling misplaced cells."
   ]
  },
  {
   "cell_type": "code",
   "execution_count": 9,
   "metadata": {},
   "outputs": [
    {
     "data": {
      "text/html": [
       "<div>\n",
       "<style scoped>\n",
       "    .dataframe tbody tr th:only-of-type {\n",
       "        vertical-align: middle;\n",
       "    }\n",
       "\n",
       "    .dataframe tbody tr th {\n",
       "        vertical-align: top;\n",
       "    }\n",
       "\n",
       "    .dataframe thead th {\n",
       "        text-align: right;\n",
       "    }\n",
       "</style>\n",
       "<table border=\"1\" class=\"dataframe\">\n",
       "  <thead>\n",
       "    <tr style=\"text-align: right;\">\n",
       "      <th></th>\n",
       "      <th>Company Name</th>\n",
       "      <th>Founded</th>\n",
       "      <th>Location</th>\n",
       "      <th>Sector</th>\n",
       "      <th>What it does</th>\n",
       "      <th>Founders</th>\n",
       "      <th>Investor</th>\n",
       "      <th>Amount</th>\n",
       "      <th>Stage</th>\n",
       "    </tr>\n",
       "  </thead>\n",
       "  <tbody>\n",
       "    <tr>\n",
       "      <th>85</th>\n",
       "      <td>Eximpe</td>\n",
       "      <td>2021</td>\n",
       "      <td>Eximpe is Managing sellers, buyers, processes,...</td>\n",
       "      <td>Arjun Zacharia</td>\n",
       "      <td>Axel Wehr and Rohit M.A.</td>\n",
       "      <td>$270,000,000</td>\n",
       "      <td>Seed</td>\n",
       "      <td>NaN</td>\n",
       "      <td>NaN</td>\n",
       "    </tr>\n",
       "    <tr>\n",
       "      <th>91</th>\n",
       "      <td>EPNS</td>\n",
       "      <td>2020</td>\n",
       "      <td>BUIDLing World's First Decentralized Notificat...</td>\n",
       "      <td>Harsh Rajat, Richa Joshi</td>\n",
       "      <td>BR Capital and LD Capital</td>\n",
       "      <td>$66,000,000</td>\n",
       "      <td>Seed</td>\n",
       "      <td>NaN</td>\n",
       "      <td>NaN</td>\n",
       "    </tr>\n",
       "  </tbody>\n",
       "</table>\n",
       "</div>"
      ],
      "text/plain": [
       "   Company Name  Founded                                           Location  \\\n",
       "85       Eximpe     2021  Eximpe is Managing sellers, buyers, processes,...   \n",
       "91         EPNS     2020  BUIDLing World's First Decentralized Notificat...   \n",
       "\n",
       "                      Sector               What it does      Founders  \\\n",
       "85            Arjun Zacharia   Axel Wehr and Rohit M.A.  $270,000,000   \n",
       "91  Harsh Rajat, Richa Joshi  BR Capital and LD Capital   $66,000,000   \n",
       "\n",
       "   Investor Amount Stage  \n",
       "85     Seed    NaN   NaN  \n",
       "91     Seed    NaN   NaN  "
      ]
     },
     "execution_count": 9,
     "metadata": {},
     "output_type": "execute_result"
    }
   ],
   "source": [
    "misplaced_cells = df['Amount'].isnull()\n",
    "df[misplaced_cells]"
   ]
  },
  {
   "cell_type": "markdown",
   "metadata": {},
   "source": [
    ">>>> we can notice that some values are misplaced. Here the `Amount` variable will be useful in analysis. Instead of removing the cells, Replacing them with the corresponding values from respective rows for better analysis."
   ]
  },
  {
   "cell_type": "code",
   "execution_count": 10,
   "metadata": {},
   "outputs": [],
   "source": [
    "df.loc[85,'Amount']= '$270,000,000'\n",
    "df.loc[91,'Amount'] = '$66,000,000'"
   ]
  },
  {
   "cell_type": "code",
   "execution_count": 11,
   "metadata": {},
   "outputs": [
    {
     "data": {
      "text/html": [
       "<div>\n",
       "<style scoped>\n",
       "    .dataframe tbody tr th:only-of-type {\n",
       "        vertical-align: middle;\n",
       "    }\n",
       "\n",
       "    .dataframe tbody tr th {\n",
       "        vertical-align: top;\n",
       "    }\n",
       "\n",
       "    .dataframe thead th {\n",
       "        text-align: right;\n",
       "    }\n",
       "</style>\n",
       "<table border=\"1\" class=\"dataframe\">\n",
       "  <thead>\n",
       "    <tr style=\"text-align: right;\">\n",
       "      <th></th>\n",
       "      <th>Company Name</th>\n",
       "      <th>Founded</th>\n",
       "      <th>Location</th>\n",
       "      <th>Sector</th>\n",
       "      <th>What it does</th>\n",
       "      <th>Founders</th>\n",
       "      <th>Investor</th>\n",
       "      <th>Amount</th>\n",
       "      <th>Stage</th>\n",
       "    </tr>\n",
       "  </thead>\n",
       "  <tbody>\n",
       "    <tr>\n",
       "      <th>85</th>\n",
       "      <td>Eximpe</td>\n",
       "      <td>2021</td>\n",
       "      <td>Eximpe is Managing sellers, buyers, processes,...</td>\n",
       "      <td>Arjun Zacharia</td>\n",
       "      <td>Axel Wehr and Rohit M.A.</td>\n",
       "      <td>$270,000,000</td>\n",
       "      <td>Seed</td>\n",
       "      <td>$270,000,000</td>\n",
       "      <td>NaN</td>\n",
       "    </tr>\n",
       "    <tr>\n",
       "      <th>91</th>\n",
       "      <td>EPNS</td>\n",
       "      <td>2020</td>\n",
       "      <td>BUIDLing World's First Decentralized Notificat...</td>\n",
       "      <td>Harsh Rajat, Richa Joshi</td>\n",
       "      <td>BR Capital and LD Capital</td>\n",
       "      <td>$66,000,000</td>\n",
       "      <td>Seed</td>\n",
       "      <td>$66,000,000</td>\n",
       "      <td>NaN</td>\n",
       "    </tr>\n",
       "  </tbody>\n",
       "</table>\n",
       "</div>"
      ],
      "text/plain": [
       "   Company Name  Founded                                           Location  \\\n",
       "85       Eximpe     2021  Eximpe is Managing sellers, buyers, processes,...   \n",
       "91         EPNS     2020  BUIDLing World's First Decentralized Notificat...   \n",
       "\n",
       "                      Sector               What it does      Founders  \\\n",
       "85            Arjun Zacharia   Axel Wehr and Rohit M.A.  $270,000,000   \n",
       "91  Harsh Rajat, Richa Joshi  BR Capital and LD Capital   $66,000,000   \n",
       "\n",
       "   Investor        Amount Stage  \n",
       "85     Seed  $270,000,000   NaN  \n",
       "91     Seed   $66,000,000   NaN  "
      ]
     },
     "execution_count": 11,
     "metadata": {},
     "output_type": "execute_result"
    }
   ],
   "source": [
    "df[misplaced_cells]"
   ]
  },
  {
   "cell_type": "markdown",
   "metadata": {},
   "source": [
    ">>>> - In order to analyze `Amount` variable, we need need to convert them to `int` rather than `object`.\n",
    ">>>> - So removing the special characters such as  `$`, `,`, `.` and variables such as `Undisclosed` is necessery to convert them as `int`."
   ]
  },
  {
   "cell_type": "code",
   "execution_count": 12,
   "metadata": {},
   "outputs": [],
   "source": [
    "# Removing the special characters ('$',',','.')\n",
    "df['Amount']=df['Amount'].str.replace(r'\\W','',regex=True)\n",
    "\n",
    "# Replacing 'Undisclosed' with '0'\n",
    "df['Amount']=df['Amount'].str.replace('Undisclosed','0')\n",
    "\n",
    "# Changing datatype\n",
    "df[\"Amount\"]=df[\"Amount\"].astype('int64')"
   ]
  },
  {
   "cell_type": "code",
   "execution_count": 13,
   "metadata": {},
   "outputs": [
    {
     "name": "stdout",
     "output_type": "stream",
     "text": [
      "<class 'pandas.core.frame.DataFrame'>\n",
      "RangeIndex: 95 entries, 0 to 94\n",
      "Data columns (total 9 columns):\n",
      " #   Column        Non-Null Count  Dtype \n",
      "---  ------        --------------  ----- \n",
      " 0   Company Name  95 non-null     object\n",
      " 1   Founded       95 non-null     int64 \n",
      " 2   Location      94 non-null     object\n",
      " 3   Sector        95 non-null     object\n",
      " 4   What it does  95 non-null     object\n",
      " 5   Founders      85 non-null     object\n",
      " 6   Investor      85 non-null     object\n",
      " 7   Amount        95 non-null     int64 \n",
      " 8   Stage         92 non-null     object\n",
      "dtypes: int64(2), object(7)\n",
      "memory usage: 6.8+ KB\n"
     ]
    }
   ],
   "source": [
    "df.info()"
   ]
  },
  {
   "cell_type": "markdown",
   "metadata": {},
   "source": [
    ">>>> Dtype of `Amount` becomes `int64`"
   ]
  },
  {
   "cell_type": "code",
   "execution_count": 14,
   "metadata": {},
   "outputs": [
    {
     "data": {
      "text/plain": [
       "Company Name     0\n",
       "Founded          0\n",
       "Location         1\n",
       "Sector           0\n",
       "What it does     0\n",
       "Founders        10\n",
       "Investor        10\n",
       "Amount           0\n",
       "Stage            3\n",
       "dtype: int64"
      ]
     },
     "execution_count": 14,
     "metadata": {},
     "output_type": "execute_result"
    }
   ],
   "source": [
    "df.isna().sum()"
   ]
  },
  {
   "cell_type": "markdown",
   "metadata": {},
   "source": [
    ">>>> Now let's fill the empty cells with `Undisclosed`"
   ]
  },
  {
   "cell_type": "code",
   "execution_count": 15,
   "metadata": {},
   "outputs": [
    {
     "data": {
      "text/html": [
       "<div>\n",
       "<style scoped>\n",
       "    .dataframe tbody tr th:only-of-type {\n",
       "        vertical-align: middle;\n",
       "    }\n",
       "\n",
       "    .dataframe tbody tr th {\n",
       "        vertical-align: top;\n",
       "    }\n",
       "\n",
       "    .dataframe thead th {\n",
       "        text-align: right;\n",
       "    }\n",
       "</style>\n",
       "<table border=\"1\" class=\"dataframe\">\n",
       "  <thead>\n",
       "    <tr style=\"text-align: right;\">\n",
       "      <th></th>\n",
       "      <th>Company Name</th>\n",
       "      <th>Founded</th>\n",
       "      <th>Location</th>\n",
       "      <th>Sector</th>\n",
       "      <th>What it does</th>\n",
       "      <th>Founders</th>\n",
       "      <th>Investor</th>\n",
       "      <th>Amount</th>\n",
       "      <th>Stage</th>\n",
       "    </tr>\n",
       "  </thead>\n",
       "  <tbody>\n",
       "    <tr>\n",
       "      <th>0</th>\n",
       "      <td>Dyte</td>\n",
       "      <td>2020</td>\n",
       "      <td>Bengaluru</td>\n",
       "      <td>IT Services and IT Consulting</td>\n",
       "      <td>Dyte provides the easiest way to add real-time...</td>\n",
       "      <td>Felix Lee,Vivan</td>\n",
       "      <td>Multiples</td>\n",
       "      <td>15300000</td>\n",
       "      <td>undisclosed</td>\n",
       "    </tr>\n",
       "    <tr>\n",
       "      <th>1</th>\n",
       "      <td>Kirana Bazaar</td>\n",
       "      <td>2018</td>\n",
       "      <td>Gurgaon</td>\n",
       "      <td>Oline grocery</td>\n",
       "      <td>Kirana Bazaar is a neighborhood store network ...</td>\n",
       "      <td>Abhishek Halder, Anilesh Yadav</td>\n",
       "      <td>Multiples</td>\n",
       "      <td>32800000</td>\n",
       "      <td>undisclosed</td>\n",
       "    </tr>\n",
       "    <tr>\n",
       "      <th>2</th>\n",
       "      <td>Phool</td>\n",
       "      <td>2017</td>\n",
       "      <td>kanpur</td>\n",
       "      <td>Enviromental Engineering</td>\n",
       "      <td>Phool is a biomaterial startup.</td>\n",
       "      <td>Ankit Agrawal</td>\n",
       "      <td>Multiples</td>\n",
       "      <td>9400000</td>\n",
       "      <td>undisclosed</td>\n",
       "    </tr>\n",
       "    <tr>\n",
       "      <th>3</th>\n",
       "      <td>Doceree</td>\n",
       "      <td>2019</td>\n",
       "      <td>Parsippany</td>\n",
       "      <td>Information Technology &amp; Services</td>\n",
       "      <td>Doceree is a fully integrated programmatic ad ...</td>\n",
       "      <td>Daleep Manhas, Harshit Jain, Stephen Hoelper</td>\n",
       "      <td>Multiples</td>\n",
       "      <td>12000000</td>\n",
       "      <td>undisclosed</td>\n",
       "    </tr>\n",
       "    <tr>\n",
       "      <th>4</th>\n",
       "      <td>Acko</td>\n",
       "      <td>2016</td>\n",
       "      <td>Mumbai</td>\n",
       "      <td>Health insurance</td>\n",
       "      <td>Acko is a digital insurance company with a lic...</td>\n",
       "      <td>Undisclosed</td>\n",
       "      <td>Multiples</td>\n",
       "      <td>458000000</td>\n",
       "      <td>Series D</td>\n",
       "    </tr>\n",
       "    <tr>\n",
       "      <th>...</th>\n",
       "      <td>...</td>\n",
       "      <td>...</td>\n",
       "      <td>...</td>\n",
       "      <td>...</td>\n",
       "      <td>...</td>\n",
       "      <td>...</td>\n",
       "      <td>...</td>\n",
       "      <td>...</td>\n",
       "      <td>...</td>\n",
       "    </tr>\n",
       "    <tr>\n",
       "      <th>90</th>\n",
       "      <td>YouKraft</td>\n",
       "      <td>2020</td>\n",
       "      <td>Banglore</td>\n",
       "      <td>Publishing</td>\n",
       "      <td>YouKraft is an e-commerce marketplace for all ...</td>\n",
       "      <td>Undisclosed</td>\n",
       "      <td>Goel Family Office</td>\n",
       "      <td>76000000</td>\n",
       "      <td>Seed</td>\n",
       "    </tr>\n",
       "    <tr>\n",
       "      <th>91</th>\n",
       "      <td>EPNS</td>\n",
       "      <td>2020</td>\n",
       "      <td>BUIDLing World's First Decentralized Notificat...</td>\n",
       "      <td>Harsh Rajat, Richa Joshi</td>\n",
       "      <td>BR Capital and LD Capital</td>\n",
       "      <td>$66,000,000</td>\n",
       "      <td>Seed</td>\n",
       "      <td>66000000</td>\n",
       "      <td>Undisclosed</td>\n",
       "    </tr>\n",
       "    <tr>\n",
       "      <th>92</th>\n",
       "      <td>Securden</td>\n",
       "      <td>2018</td>\n",
       "      <td>Delaware</td>\n",
       "      <td>Artificial Intelligence</td>\n",
       "      <td>Securden is a Windows Privilege Management Sof...</td>\n",
       "      <td>Balasubramanian Venkatramani, Kumaran Balan</td>\n",
       "      <td>Accel and Tiger Global Management</td>\n",
       "      <td>11700000</td>\n",
       "      <td>Series A</td>\n",
       "    </tr>\n",
       "    <tr>\n",
       "      <th>93</th>\n",
       "      <td>Mesh</td>\n",
       "      <td>2020</td>\n",
       "      <td>San Jose</td>\n",
       "      <td>Enterprise Software</td>\n",
       "      <td>Mesh is a social performance management platfo...</td>\n",
       "      <td>Gaurav Chaubey, Rahul Singh, Saurabh Nangia</td>\n",
       "      <td>Ankit Nagori and Sumon Sadhu</td>\n",
       "      <td>16100000</td>\n",
       "      <td>Series A</td>\n",
       "    </tr>\n",
       "    <tr>\n",
       "      <th>94</th>\n",
       "      <td>Last9</td>\n",
       "      <td>2020</td>\n",
       "      <td>Santa Clara</td>\n",
       "      <td>Software</td>\n",
       "      <td>Last9 is a Site Reliability Engineering platfo...</td>\n",
       "      <td>Nishant Modak, Piyush Verma</td>\n",
       "      <td>Better Capital and Sequoia Capital India</td>\n",
       "      <td>13000000</td>\n",
       "      <td>Series A</td>\n",
       "    </tr>\n",
       "  </tbody>\n",
       "</table>\n",
       "<p>95 rows × 9 columns</p>\n",
       "</div>"
      ],
      "text/plain": [
       "     Company Name  Founded                                           Location  \\\n",
       "0            Dyte     2020                                          Bengaluru   \n",
       "1   Kirana Bazaar     2018                                            Gurgaon   \n",
       "2           Phool     2017                                             kanpur   \n",
       "3         Doceree     2019                                         Parsippany   \n",
       "4            Acko     2016                                             Mumbai   \n",
       "..            ...      ...                                                ...   \n",
       "90       YouKraft     2020                                           Banglore   \n",
       "91           EPNS     2020  BUIDLing World's First Decentralized Notificat...   \n",
       "92       Securden     2018                                           Delaware   \n",
       "93           Mesh     2020                                           San Jose   \n",
       "94          Last9     2020                                        Santa Clara   \n",
       "\n",
       "                               Sector  \\\n",
       "0       IT Services and IT Consulting   \n",
       "1                       Oline grocery   \n",
       "2            Enviromental Engineering   \n",
       "3   Information Technology & Services   \n",
       "4                    Health insurance   \n",
       "..                                ...   \n",
       "90                         Publishing   \n",
       "91           Harsh Rajat, Richa Joshi   \n",
       "92            Artificial Intelligence   \n",
       "93                Enterprise Software   \n",
       "94                           Software   \n",
       "\n",
       "                                         What it does  \\\n",
       "0   Dyte provides the easiest way to add real-time...   \n",
       "1   Kirana Bazaar is a neighborhood store network ...   \n",
       "2                     Phool is a biomaterial startup.   \n",
       "3   Doceree is a fully integrated programmatic ad ...   \n",
       "4   Acko is a digital insurance company with a lic...   \n",
       "..                                                ...   \n",
       "90  YouKraft is an e-commerce marketplace for all ...   \n",
       "91                          BR Capital and LD Capital   \n",
       "92  Securden is a Windows Privilege Management Sof...   \n",
       "93  Mesh is a social performance management platfo...   \n",
       "94  Last9 is a Site Reliability Engineering platfo...   \n",
       "\n",
       "                                        Founders  \\\n",
       "0                                Felix Lee,Vivan   \n",
       "1                 Abhishek Halder, Anilesh Yadav   \n",
       "2                                  Ankit Agrawal   \n",
       "3   Daleep Manhas, Harshit Jain, Stephen Hoelper   \n",
       "4                                    Undisclosed   \n",
       "..                                           ...   \n",
       "90                                   Undisclosed   \n",
       "91                                   $66,000,000   \n",
       "92   Balasubramanian Venkatramani, Kumaran Balan   \n",
       "93   Gaurav Chaubey, Rahul Singh, Saurabh Nangia   \n",
       "94                   Nishant Modak, Piyush Verma   \n",
       "\n",
       "                                    Investor     Amount        Stage  \n",
       "0                                  Multiples   15300000  undisclosed  \n",
       "1                                  Multiples   32800000  undisclosed  \n",
       "2                                  Multiples    9400000  undisclosed  \n",
       "3                                  Multiples   12000000  undisclosed  \n",
       "4                                  Multiples  458000000     Series D  \n",
       "..                                       ...        ...          ...  \n",
       "90                        Goel Family Office   76000000         Seed  \n",
       "91                                      Seed   66000000  Undisclosed  \n",
       "92         Accel and Tiger Global Management   11700000     Series A  \n",
       "93              Ankit Nagori and Sumon Sadhu   16100000     Series A  \n",
       "94  Better Capital and Sequoia Capital India   13000000     Series A  \n",
       "\n",
       "[95 rows x 9 columns]"
      ]
     },
     "execution_count": 15,
     "metadata": {},
     "output_type": "execute_result"
    }
   ],
   "source": [
    "df.fillna('Undisclosed',inplace=True)\n",
    "df"
   ]
  },
  {
   "cell_type": "code",
   "execution_count": 16,
   "metadata": {},
   "outputs": [
    {
     "data": {
      "text/plain": [
       "Company Name    0\n",
       "Founded         0\n",
       "Location        0\n",
       "Sector          0\n",
       "What it does    0\n",
       "Founders        0\n",
       "Investor        0\n",
       "Amount          0\n",
       "Stage           0\n",
       "dtype: int64"
      ]
     },
     "execution_count": 16,
     "metadata": {},
     "output_type": "execute_result"
    }
   ],
   "source": [
    "df.isnull().sum()"
   ]
  },
  {
   "cell_type": "markdown",
   "metadata": {},
   "source": [
    "- Handling inconsistent data.\n"
   ]
  },
  {
   "cell_type": "markdown",
   "metadata": {},
   "source": [
    ">>>> Looks like `Bangalore`, `Banglore`, `Bengaluru` denotes the same location `Banglore`."
   ]
  },
  {
   "cell_type": "code",
   "execution_count": 17,
   "metadata": {},
   "outputs": [],
   "source": [
    "from thefuzz import process,fuzz"
   ]
  },
  {
   "cell_type": "code",
   "execution_count": 18,
   "metadata": {},
   "outputs": [
    {
     "data": {
      "text/plain": [
       "array(['Amsterdam',\n",
       "       \"BUIDLing World's First Decentralized Notification Protocol on Ethereum\",\n",
       "       'Bangalore', 'Banglore', 'Bengaluru', 'Chennai', 'Delaware',\n",
       "       'Eximpe is Managing sellers, buyers, processes, payments, and financial services.',\n",
       "       'Faridabad', 'Gurgaon', 'Haryana', 'Hyderabad', 'Israel', 'Jaipur',\n",
       "       'Kormangala', 'Lonavala', 'London', 'Maharastra', 'Maryland',\n",
       "       'Massachusetts', 'Mumba', 'Mumbai', 'New delhi', 'Newyork',\n",
       "       'Noida', 'Oakland', 'Palo Alto', 'Parsippany', 'Petaluma', 'Pune',\n",
       "       'San Francisco', 'San Jose', 'Santa Clara', 'Surat',\n",
       "       'Tiruchirappall', 'Tokyo', 'Undisclosed', 'Vitznau, Luzern,',\n",
       "       'kanpur'], dtype=object)"
      ]
     },
     "execution_count": 18,
     "metadata": {},
     "output_type": "execute_result"
    }
   ],
   "source": [
    "# Getting unique values.\n",
    "Locations=df['Location'].unique()\n",
    "Locations.sort()\n",
    "Locations\n"
   ]
  },
  {
   "cell_type": "code",
   "execution_count": 19,
   "metadata": {},
   "outputs": [
    {
     "data": {
      "text/plain": [
       "[('Banglore', 100),\n",
       " ('Bangalore', 94),\n",
       " ('Bengaluru', 59),\n",
       " ('Kormangala', 44),\n",
       " ('kanpur', 43)]"
      ]
     },
     "execution_count": 19,
     "metadata": {},
     "output_type": "execute_result"
    }
   ],
   "source": [
    "# Getting matches for 'Banglore'\n",
    "matches = process.extract('Banglore',Locations,limit=5,scorer=fuzz.token_sort_ratio)\n",
    "matches"
   ]
  },
  {
   "cell_type": "code",
   "execution_count": 20,
   "metadata": {},
   "outputs": [
    {
     "data": {
      "text/plain": [
       "['Banglore', 'Bangalore', 'Bengaluru']"
      ]
     },
     "execution_count": 20,
     "metadata": {},
     "output_type": "execute_result"
    }
   ],
   "source": [
    "# Getting almost perfect matches for \"Banglore\"\n",
    "perfect_matches = [matches[0] for matches in matches if matches[1]>=58]\n",
    "perfect_matches"
   ]
  },
  {
   "cell_type": "code",
   "execution_count": 21,
   "metadata": {},
   "outputs": [
    {
     "data": {
      "text/plain": [
       "0      True\n",
       "1     False\n",
       "2     False\n",
       "3     False\n",
       "4     False\n",
       "      ...  \n",
       "90     True\n",
       "91    False\n",
       "92    False\n",
       "93    False\n",
       "94    False\n",
       "Name: Location, Length: 95, dtype: bool"
      ]
     },
     "execution_count": 21,
     "metadata": {},
     "output_type": "execute_result"
    }
   ],
   "source": [
    "# Getting the position of rows from our dataFrame.\n",
    "rows_with_perfect_matches = df['Location'].isin(perfect_matches)\n",
    "rows_with_perfect_matches   "
   ]
  },
  {
   "cell_type": "code",
   "execution_count": 22,
   "metadata": {},
   "outputs": [],
   "source": [
    "# Replacing \n",
    "df.loc[rows_with_perfect_matches,'Location']='Banglore' "
   ]
  },
  {
   "cell_type": "code",
   "execution_count": 23,
   "metadata": {},
   "outputs": [
    {
     "data": {
      "text/plain": [
       "array(['Amsterdam',\n",
       "       \"BUIDLing World's First Decentralized Notification Protocol on Ethereum\",\n",
       "       'Banglore', 'Chennai', 'Delaware',\n",
       "       'Eximpe is Managing sellers, buyers, processes, payments, and financial services.',\n",
       "       'Faridabad', 'Gurgaon', 'Haryana', 'Hyderabad', 'Israel', 'Jaipur',\n",
       "       'Kormangala', 'Lonavala', 'London', 'Maharastra', 'Maryland',\n",
       "       'Massachusetts', 'Mumba', 'Mumbai', 'New delhi', 'Newyork',\n",
       "       'Noida', 'Oakland', 'Palo Alto', 'Parsippany', 'Petaluma', 'Pune',\n",
       "       'San Francisco', 'San Jose', 'Santa Clara', 'Surat',\n",
       "       'Tiruchirappall', 'Tokyo', 'Undisclosed', 'Vitznau, Luzern,',\n",
       "       'kanpur'], dtype=object)"
      ]
     },
     "execution_count": 23,
     "metadata": {},
     "output_type": "execute_result"
    }
   ],
   "source": [
    "locations = df['Location'].unique()\n",
    "locations.sort()\n",
    "locations"
   ]
  },
  {
   "cell_type": "markdown",
   "metadata": {},
   "source": [
    ">>>> Now `Bangalore`, `Banglore`, `Bengaluru` is replaced with `Banglore`.\n",
    "\n",
    ">>>> Now the dataset is cleaned and ready for analysis.\n",
    "\n",
    "---"
   ]
  },
  {
   "cell_type": "markdown",
   "metadata": {},
   "source": [
    "# <b> Data analysis and Visualization </b>\n",
    "\n",
    ">>>> For convenience I'm adding a extra variable to the dataset - `Amont_million`"
   ]
  },
  {
   "cell_type": "code",
   "execution_count": 24,
   "metadata": {},
   "outputs": [
    {
     "data": {
      "text/plain": [
       "0     15.3\n",
       "1     32.8\n",
       "2      9.4\n",
       "3     12.0\n",
       "4    458.0\n",
       "Name: Amount_million, dtype: float64"
      ]
     },
     "execution_count": 24,
     "metadata": {},
     "output_type": "execute_result"
    }
   ],
   "source": [
    "# Getting amount in million.\n",
    "df['Amount_million']=(df['Amount']/1000000)\n",
    "df['Amount_million'].head()"
   ]
  },
  {
   "cell_type": "code",
   "execution_count": 25,
   "metadata": {},
   "outputs": [
    {
     "data": {
      "text/html": [
       "<div>\n",
       "<style scoped>\n",
       "    .dataframe tbody tr th:only-of-type {\n",
       "        vertical-align: middle;\n",
       "    }\n",
       "\n",
       "    .dataframe tbody tr th {\n",
       "        vertical-align: top;\n",
       "    }\n",
       "\n",
       "    .dataframe thead th {\n",
       "        text-align: right;\n",
       "    }\n",
       "</style>\n",
       "<table border=\"1\" class=\"dataframe\">\n",
       "  <thead>\n",
       "    <tr style=\"text-align: right;\">\n",
       "      <th></th>\n",
       "      <th>Company Name</th>\n",
       "      <th>Founded</th>\n",
       "      <th>Location</th>\n",
       "      <th>Sector</th>\n",
       "      <th>What it does</th>\n",
       "      <th>Founders</th>\n",
       "      <th>Investor</th>\n",
       "      <th>Amount</th>\n",
       "      <th>Stage</th>\n",
       "      <th>Amount_million</th>\n",
       "    </tr>\n",
       "  </thead>\n",
       "  <tbody>\n",
       "    <tr>\n",
       "      <th>0</th>\n",
       "      <td>Dyte</td>\n",
       "      <td>2020</td>\n",
       "      <td>Banglore</td>\n",
       "      <td>IT Services and IT Consulting</td>\n",
       "      <td>Dyte provides the easiest way to add real-time...</td>\n",
       "      <td>Felix Lee,Vivan</td>\n",
       "      <td>Multiples</td>\n",
       "      <td>15300000</td>\n",
       "      <td>undisclosed</td>\n",
       "      <td>15.3</td>\n",
       "    </tr>\n",
       "    <tr>\n",
       "      <th>1</th>\n",
       "      <td>Kirana Bazaar</td>\n",
       "      <td>2018</td>\n",
       "      <td>Gurgaon</td>\n",
       "      <td>Oline grocery</td>\n",
       "      <td>Kirana Bazaar is a neighborhood store network ...</td>\n",
       "      <td>Abhishek Halder, Anilesh Yadav</td>\n",
       "      <td>Multiples</td>\n",
       "      <td>32800000</td>\n",
       "      <td>undisclosed</td>\n",
       "      <td>32.8</td>\n",
       "    </tr>\n",
       "    <tr>\n",
       "      <th>2</th>\n",
       "      <td>Phool</td>\n",
       "      <td>2017</td>\n",
       "      <td>kanpur</td>\n",
       "      <td>Enviromental Engineering</td>\n",
       "      <td>Phool is a biomaterial startup.</td>\n",
       "      <td>Ankit Agrawal</td>\n",
       "      <td>Multiples</td>\n",
       "      <td>9400000</td>\n",
       "      <td>undisclosed</td>\n",
       "      <td>9.4</td>\n",
       "    </tr>\n",
       "    <tr>\n",
       "      <th>3</th>\n",
       "      <td>Doceree</td>\n",
       "      <td>2019</td>\n",
       "      <td>Parsippany</td>\n",
       "      <td>Information Technology &amp; Services</td>\n",
       "      <td>Doceree is a fully integrated programmatic ad ...</td>\n",
       "      <td>Daleep Manhas, Harshit Jain, Stephen Hoelper</td>\n",
       "      <td>Multiples</td>\n",
       "      <td>12000000</td>\n",
       "      <td>undisclosed</td>\n",
       "      <td>12.0</td>\n",
       "    </tr>\n",
       "    <tr>\n",
       "      <th>4</th>\n",
       "      <td>Acko</td>\n",
       "      <td>2016</td>\n",
       "      <td>Mumbai</td>\n",
       "      <td>Health insurance</td>\n",
       "      <td>Acko is a digital insurance company with a lic...</td>\n",
       "      <td>Undisclosed</td>\n",
       "      <td>Multiples</td>\n",
       "      <td>458000000</td>\n",
       "      <td>Series D</td>\n",
       "      <td>458.0</td>\n",
       "    </tr>\n",
       "  </tbody>\n",
       "</table>\n",
       "</div>"
      ],
      "text/plain": [
       "    Company Name  Founded    Location                             Sector  \\\n",
       "0           Dyte     2020    Banglore      IT Services and IT Consulting   \n",
       "1  Kirana Bazaar     2018     Gurgaon                      Oline grocery   \n",
       "2          Phool     2017      kanpur           Enviromental Engineering   \n",
       "3        Doceree     2019  Parsippany  Information Technology & Services   \n",
       "4           Acko     2016      Mumbai                   Health insurance   \n",
       "\n",
       "                                        What it does  \\\n",
       "0  Dyte provides the easiest way to add real-time...   \n",
       "1  Kirana Bazaar is a neighborhood store network ...   \n",
       "2                    Phool is a biomaterial startup.   \n",
       "3  Doceree is a fully integrated programmatic ad ...   \n",
       "4  Acko is a digital insurance company with a lic...   \n",
       "\n",
       "                                       Founders   Investor     Amount  \\\n",
       "0                               Felix Lee,Vivan  Multiples   15300000   \n",
       "1                Abhishek Halder, Anilesh Yadav  Multiples   32800000   \n",
       "2                                 Ankit Agrawal  Multiples    9400000   \n",
       "3  Daleep Manhas, Harshit Jain, Stephen Hoelper  Multiples   12000000   \n",
       "4                                   Undisclosed  Multiples  458000000   \n",
       "\n",
       "         Stage  Amount_million  \n",
       "0  undisclosed            15.3  \n",
       "1  undisclosed            32.8  \n",
       "2  undisclosed             9.4  \n",
       "3  undisclosed            12.0  \n",
       "4     Series D           458.0  "
      ]
     },
     "execution_count": 25,
     "metadata": {},
     "output_type": "execute_result"
    }
   ],
   "source": [
    "df.head()"
   ]
  },
  {
   "cell_type": "markdown",
   "metadata": {},
   "source": [
    "### FUNDING PER REGION"
   ]
  },
  {
   "cell_type": "code",
   "execution_count": 26,
   "metadata": {},
   "outputs": [
    {
     "data": {
      "text/html": [
       "<div>\n",
       "<style scoped>\n",
       "    .dataframe tbody tr th:only-of-type {\n",
       "        vertical-align: middle;\n",
       "    }\n",
       "\n",
       "    .dataframe tbody tr th {\n",
       "        vertical-align: top;\n",
       "    }\n",
       "\n",
       "    .dataframe thead th {\n",
       "        text-align: right;\n",
       "    }\n",
       "</style>\n",
       "<table border=\"1\" class=\"dataframe\">\n",
       "  <thead>\n",
       "    <tr style=\"text-align: right;\">\n",
       "      <th></th>\n",
       "      <th>Location</th>\n",
       "      <th>Amount_million</th>\n",
       "    </tr>\n",
       "  </thead>\n",
       "  <tbody>\n",
       "    <tr>\n",
       "      <th>24</th>\n",
       "      <td>Palo Alto</td>\n",
       "      <td>18300.000000</td>\n",
       "    </tr>\n",
       "    <tr>\n",
       "      <th>2</th>\n",
       "      <td>Banglore</td>\n",
       "      <td>9681.304316</td>\n",
       "    </tr>\n",
       "    <tr>\n",
       "      <th>12</th>\n",
       "      <td>Kormangala</td>\n",
       "      <td>5000.000000</td>\n",
       "    </tr>\n",
       "    <tr>\n",
       "      <th>19</th>\n",
       "      <td>Mumbai</td>\n",
       "      <td>3980.500023</td>\n",
       "    </tr>\n",
       "    <tr>\n",
       "      <th>22</th>\n",
       "      <td>Noida</td>\n",
       "      <td>2529.500000</td>\n",
       "    </tr>\n",
       "    <tr>\n",
       "      <th>7</th>\n",
       "      <td>Gurgaon</td>\n",
       "      <td>2496.401655</td>\n",
       "    </tr>\n",
       "    <tr>\n",
       "      <th>28</th>\n",
       "      <td>San Francisco</td>\n",
       "      <td>1249.700000</td>\n",
       "    </tr>\n",
       "    <tr>\n",
       "      <th>6</th>\n",
       "      <td>Faridabad</td>\n",
       "      <td>904.300842</td>\n",
       "    </tr>\n",
       "    <tr>\n",
       "      <th>23</th>\n",
       "      <td>Oakland</td>\n",
       "      <td>728.100000</td>\n",
       "    </tr>\n",
       "    <tr>\n",
       "      <th>20</th>\n",
       "      <td>New delhi</td>\n",
       "      <td>700.500485</td>\n",
       "    </tr>\n",
       "  </tbody>\n",
       "</table>\n",
       "</div>"
      ],
      "text/plain": [
       "         Location  Amount_million\n",
       "24      Palo Alto    18300.000000\n",
       "2        Banglore     9681.304316\n",
       "12     Kormangala     5000.000000\n",
       "19         Mumbai     3980.500023\n",
       "22          Noida     2529.500000\n",
       "7         Gurgaon     2496.401655\n",
       "28  San Francisco     1249.700000\n",
       "6       Faridabad      904.300842\n",
       "23        Oakland      728.100000\n",
       "20      New delhi      700.500485"
      ]
     },
     "execution_count": 26,
     "metadata": {},
     "output_type": "execute_result"
    }
   ],
   "source": [
    "funding_per_region = df.groupby(['Location'])['Amount_million'].sum().reset_index()\n",
    "funding_per_region = funding_per_region.sort_values('Amount_million',ascending=False).head(10)\n",
    "funding_per_region"
   ]
  },
  {
   "cell_type": "code",
   "execution_count": 27,
   "metadata": {},
   "outputs": [
    {
     "data": {
      "image/png": "[encoded data removed]",
      "text/plain": [
       "<Figure size 1000x500 with 1 Axes>"
      ]
     },
     "metadata": {},
     "output_type": "display_data"
    }
   ],
   "source": [
    "fig,ax = plt.subplots(figsize=(10,5))\n",
    "sns.set_palette('Set2')\n",
    "sns.set_style('dark')\n",
    "plt.title(\"FUNDING PER REGION\",family='serif',color='k',size='large')\n",
    "sns.barplot(x = 'Amount_million', y = 'Location', data = funding_per_region)\n",
    "plt.show()"
   ]
  },
  {
   "cell_type": "markdown",
   "metadata": {},
   "source": [
    "This barplot shows the top 10 fundings per region.\n",
    "- Startups from `Palo Alto` a city of California received fundings over $18,000 million\n",
    "- Followed by stratups founded at `Banglore` received fundings over $9,000 million.\n",
    "---"
   ]
  },
  {
   "cell_type": "markdown",
   "metadata": {},
   "source": [
    "### FUNDING OVER SECTORS."
   ]
  },
  {
   "cell_type": "code",
   "execution_count": 28,
   "metadata": {},
   "outputs": [
    {
     "data": {
      "text/html": [
       "<div>\n",
       "<style scoped>\n",
       "    .dataframe tbody tr th:only-of-type {\n",
       "        vertical-align: middle;\n",
       "    }\n",
       "\n",
       "    .dataframe tbody tr th {\n",
       "        vertical-align: top;\n",
       "    }\n",
       "\n",
       "    .dataframe thead th {\n",
       "        text-align: right;\n",
       "    }\n",
       "</style>\n",
       "<table border=\"1\" class=\"dataframe\">\n",
       "  <thead>\n",
       "    <tr style=\"text-align: right;\">\n",
       "      <th></th>\n",
       "      <th>Sector</th>\n",
       "      <th>Amount_million</th>\n",
       "    </tr>\n",
       "  </thead>\n",
       "  <tbody>\n",
       "    <tr>\n",
       "      <th>20</th>\n",
       "      <td>Financial services</td>\n",
       "      <td>21816.502497</td>\n",
       "    </tr>\n",
       "    <tr>\n",
       "      <th>56</th>\n",
       "      <td>Travel Arrangements</td>\n",
       "      <td>5550.000000</td>\n",
       "    </tr>\n",
       "    <tr>\n",
       "      <th>42</th>\n",
       "      <td>Logistics</td>\n",
       "      <td>2500.000485</td>\n",
       "    </tr>\n",
       "    <tr>\n",
       "      <th>10</th>\n",
       "      <td>E-commerce</td>\n",
       "      <td>1970.004316</td>\n",
       "    </tr>\n",
       "    <tr>\n",
       "      <th>41</th>\n",
       "      <td>Internet Publishing</td>\n",
       "      <td>1700.000000</td>\n",
       "    </tr>\n",
       "  </tbody>\n",
       "</table>\n",
       "</div>"
      ],
      "text/plain": [
       "                 Sector  Amount_million\n",
       "20   Financial services    21816.502497\n",
       "56  Travel Arrangements     5550.000000\n",
       "42            Logistics     2500.000485\n",
       "10           E-commerce     1970.004316\n",
       "41  Internet Publishing     1700.000000"
      ]
     },
     "execution_count": 28,
     "metadata": {},
     "output_type": "execute_result"
    }
   ],
   "source": [
    "fund_sector = df.groupby('Sector')['Amount_million'].sum().reset_index()\n",
    "fund_sector = fund_sector.sort_values('Amount_million',ascending=False).head()\n",
    "fund_sector"
   ]
  },
  {
   "cell_type": "code",
   "execution_count": 29,
   "metadata": {},
   "outputs": [
    {
     "data": {
      "image/png": "[encoded data removed]",
      "text/plain": [
       "<Figure size 1000x500 with 1 Axes>"
      ]
     },
     "metadata": {},
     "output_type": "display_data"
    }
   ],
   "source": [
    "fig,ax = plt.subplots(figsize=(10,5))\n",
    "sns.set_palette('Set2')\n",
    "sns.set_style('dark')\n",
    "plt.title(\"TOP 5 FUNDING OVER SECTOR\",family='serif',color='k',size='large')\n",
    "sns.barplot(y = 'Amount_million', x = 'Sector', data = fund_sector.head())\n",
    "plt.show()"
   ]
  },
  {
   "cell_type": "markdown",
   "metadata": {},
   "source": [
    "This barplot shows the fundings over different sectors.\n",
    "- Startups based on `Financial services` got the most funding followed by `Travel arrangements` and `Logistics Sector`\n",
    "\n",
    "---"
   ]
  },
  {
   "cell_type": "markdown",
   "metadata": {},
   "source": [
    "### FUNDING OVER COMPANY."
   ]
  },
  {
   "cell_type": "code",
   "execution_count": 30,
   "metadata": {},
   "outputs": [
    {
     "data": {
      "text/html": [
       "<div>\n",
       "<style scoped>\n",
       "    .dataframe tbody tr th:only-of-type {\n",
       "        vertical-align: middle;\n",
       "    }\n",
       "\n",
       "    .dataframe tbody tr th {\n",
       "        vertical-align: top;\n",
       "    }\n",
       "\n",
       "    .dataframe thead th {\n",
       "        text-align: right;\n",
       "    }\n",
       "</style>\n",
       "<table border=\"1\" class=\"dataframe\">\n",
       "  <thead>\n",
       "    <tr style=\"text-align: right;\">\n",
       "      <th></th>\n",
       "      <th>Company Name</th>\n",
       "      <th>Amount_million</th>\n",
       "    </tr>\n",
       "  </thead>\n",
       "  <tbody>\n",
       "    <tr>\n",
       "      <th>0</th>\n",
       "      <td>Accel</td>\n",
       "      <td>18300.0</td>\n",
       "    </tr>\n",
       "    <tr>\n",
       "      <th>60</th>\n",
       "      <td>Ola</td>\n",
       "      <td>5000.0</td>\n",
       "    </tr>\n",
       "    <tr>\n",
       "      <th>46</th>\n",
       "      <td>Mahindra Logistics</td>\n",
       "      <td>2500.0</td>\n",
       "    </tr>\n",
       "    <tr>\n",
       "      <th>84</th>\n",
       "      <td>Verse Innovation</td>\n",
       "      <td>1700.0</td>\n",
       "    </tr>\n",
       "    <tr>\n",
       "      <th>71</th>\n",
       "      <td>ShareChat</td>\n",
       "      <td>1400.0</td>\n",
       "    </tr>\n",
       "  </tbody>\n",
       "</table>\n",
       "</div>"
      ],
      "text/plain": [
       "          Company Name  Amount_million\n",
       "0                Accel         18300.0\n",
       "60                 Ola          5000.0\n",
       "46  Mahindra Logistics          2500.0\n",
       "84    Verse Innovation          1700.0\n",
       "71           ShareChat          1400.0"
      ]
     },
     "execution_count": 30,
     "metadata": {},
     "output_type": "execute_result"
    }
   ],
   "source": [
    "company = df.groupby('Company Name')['Amount_million'].sum().reset_index()\n",
    "company = company.sort_values('Amount_million',ascending=False)\n",
    "company.head()"
   ]
  },
  {
   "cell_type": "code",
   "execution_count": 31,
   "metadata": {},
   "outputs": [
    {
     "data": {
      "image/png": "[encoded data removed]",
      "text/plain": [
       "<Figure size 1000x500 with 1 Axes>"
      ]
     },
     "metadata": {},
     "output_type": "display_data"
    }
   ],
   "source": [
    "fig,ax = plt.subplots(figsize=(10,5))\n",
    "sns.set_palette('Set2')\n",
    "sns.set_style('dark')\n",
    "plt.title(\"FUNDING OVER COMPANIES\",family='serif',color='k',size='large')\n",
    "sns.barplot(x='Company Name',y='Amount_million',data=company.head())\n",
    "plt.show()"
   ]
  },
  {
   "cell_type": "markdown",
   "metadata": {},
   "source": [
    "This barplot shows top 5 fundings over Companies.\n",
    "- `Accel` got funding over $18,000 million.\n",
    "- Followed by `Ola` - $5,000 million and `Mahindra logistics` - $2,500 million.\n",
    "---"
   ]
  },
  {
   "cell_type": "markdown",
   "metadata": {},
   "source": [
    "### NUMBER OF STARTUPS PER REGION "
   ]
  },
  {
   "cell_type": "code",
   "execution_count": 32,
   "metadata": {},
   "outputs": [
    {
     "data": {
      "image/png": "[encoded data removed]",
      "text/plain": [
       "<Figure size 1000x500 with 1 Axes>"
      ]
     },
     "metadata": {},
     "output_type": "display_data"
    }
   ],
   "source": [
    "loc_order=df['Location'].value_counts().head(10).index\n",
    "fig,ax = plt.subplots(figsize=(10,5))\n",
    "sns.set_palette('Set2')\n",
    "sns.set_style('dark')\n",
    "plt.title(\"STARTUPS PER REGION\",family='serif',color='k',size='large')\n",
    "sns.countplot(x='Location',data=df,order=loc_order)\n",
    "plt.show()\n"
   ]
  },
  {
   "cell_type": "markdown",
   "metadata": {},
   "source": [
    "- Nearly 25 companies from `Banglore` raised funds.\n",
    "- Followed by `Mumbai` - nearly 10 and `Gurgaon` - nearly 8 companies.\n",
    "\n",
    "---"
   ]
  },
  {
   "cell_type": "markdown",
   "metadata": {},
   "source": [
    "### FUNDINGS PER SECTOR"
   ]
  },
  {
   "cell_type": "code",
   "execution_count": 33,
   "metadata": {},
   "outputs": [
    {
     "data": {
      "image/png": "[encoded data removed]",
      "text/plain": [
       "<Figure size 1000x500 with 1 Axes>"
      ]
     },
     "metadata": {},
     "output_type": "display_data"
    }
   ],
   "source": [
    "stage_order = df['Stage'].value_counts().head().index\n",
    "fig,ax = plt.subplots(figsize=(10,5))\n",
    "sns.set_style('dark')\n",
    "sns.countplot(x='Stage',data=df,order=stage_order,palette='Set3')\n",
    "plt.title(\"FUNDINGS PER SECTOR\",family='serif',color='k',size='large')\n",
    "plt.show()\n"
   ]
  },
  {
   "cell_type": "markdown",
   "metadata": {},
   "source": [
    "Here is the top 5 Fundings over Sectors.\n",
    "- Here most of the sectors are left disclosed.\n",
    "- Leaving that, there are nearly 10 `Series F` and nearly 10 `Series E` sector.\n",
    "---"
   ]
  },
  {
   "cell_type": "markdown",
   "metadata": {},
   "source": [
    "### SATRTUPS OVER TIME"
   ]
  },
  {
   "cell_type": "code",
   "execution_count": 34,
   "metadata": {},
   "outputs": [
    {
     "data": {
      "image/png": "[encoded data removed]",
      "text/plain": [
       "<Figure size 1000x500 with 1 Axes>"
      ]
     },
     "metadata": {},
     "output_type": "display_data"
    }
   ],
   "source": [
    "fig,ax = plt.subplots(figsize=(10,5))\n",
    "sns.set_style('dark')\n",
    "sns.histplot(x='Founded',data=df,color='teal')\n",
    "plt.title(\"STARTUPS OVER TIME\",family='serif',color='k',size='large')\n",
    "plt.show()"
   ]
  },
  {
   "cell_type": "markdown",
   "metadata": {},
   "source": [
    "- Large number of startups that founded after year `2000` raised funds while comparing to the startups that founded before year 2000.\n",
    "---\n",
    "---"
   ]
  }
 ],
 "metadata": {
  "kernelspec": {
   "display_name": "Python 3.9.12 ('base')",
   "language": "python",
   "name": "python3"
  },
  "language_info": {
   "codemirror_mode": {
    "name": "ipython",
    "version": 3
   },
   "file_extension": ".py",
   "mimetype": "text/x-python",
   "name": "python",
   "nbconvert_exporter": "python",
   "pygments_lexer": "ipython3",
   "version": "3.9.12"
  },
  "orig_nbformat": 4,
  "vscode": {
   "interpreter": {
    "hash": "c95be5be5ce4f665ea8150410cab273f96bf53dea87635cb260e9a4d2a7d5564"
   }
  }
 },
 "nbformat": 4,
 "nbformat_minor": 2
}
